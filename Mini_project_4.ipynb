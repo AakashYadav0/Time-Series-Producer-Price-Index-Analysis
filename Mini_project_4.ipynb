{
 "cells": [
  {
   "cell_type": "code",
   "execution_count": 1,
   "id": "d6b59e03",
   "metadata": {},
   "outputs": [],
   "source": [
    "import pandas as pd\n",
    "import numpy as np\n",
    "import matplotlib.pyplot as plt\n",
    "\n",
    "from sklearn.metrics import mean_squared_error\n",
    "\n",
    "# dickey fuller test for stationarity check\n",
    "from statsmodels.tsa.stattools import adfuller,acf,pacf\n",
    "\n",
    "#ARMA/ARIMA\n",
    "from statsmodels.tsa.arima.model import ARIMA\n",
    "\n",
    "#Ljung-Box-Test\n",
    "import statsmodels.api as sm\n",
    "from statsmodels.tsa.seasonal import seasonal_decompose\n",
    "#plot acf and pacf\n",
    "from statsmodels.graphics.tsaplots import plot_acf,plot_pacf \n",
    "#sarima/sarimax lib\n",
    "from statsmodels.tsa.statespace.sarimax import SARIMAX\n",
    "\n",
    "import warnings\n",
    "warnings.filterwarnings('ignore')"
   ]
  },
  {
   "cell_type": "code",
   "execution_count": 2,
   "id": "576e6085",
   "metadata": {},
   "outputs": [
    {
     "data": {
      "text/html": [
       "<div>\n",
       "<style scoped>\n",
       "    .dataframe tbody tr th:only-of-type {\n",
       "        vertical-align: middle;\n",
       "    }\n",
       "\n",
       "    .dataframe tbody tr th {\n",
       "        vertical-align: top;\n",
       "    }\n",
       "\n",
       "    .dataframe thead th {\n",
       "        text-align: right;\n",
       "    }\n",
       "</style>\n",
       "<table border=\"1\" class=\"dataframe\">\n",
       "  <thead>\n",
       "    <tr style=\"text-align: right;\">\n",
       "      <th></th>\n",
       "      <th>m3</th>\n",
       "      <th>ppi</th>\n",
       "      <th>cpi</th>\n",
       "      <th>gdp</th>\n",
       "      <th>m1nsa</th>\n",
       "      <th>ddnsa</th>\n",
       "      <th>t</th>\n",
       "      <th>lnppi</th>\n",
       "      <th>dppi</th>\n",
       "      <th>dlnppi</th>\n",
       "      <th>lppi</th>\n",
       "      <th>trend</th>\n",
       "    </tr>\n",
       "    <tr>\n",
       "      <th>yearqrt</th>\n",
       "      <th></th>\n",
       "      <th></th>\n",
       "      <th></th>\n",
       "      <th></th>\n",
       "      <th></th>\n",
       "      <th></th>\n",
       "      <th></th>\n",
       "      <th></th>\n",
       "      <th></th>\n",
       "      <th></th>\n",
       "      <th></th>\n",
       "      <th></th>\n",
       "    </tr>\n",
       "  </thead>\n",
       "  <tbody>\n",
       "    <tr>\n",
       "      <th>1960-01-01</th>\n",
       "      <td>692.00000</td>\n",
       "      <td>25.400000</td>\n",
       "      <td>19.280001</td>\n",
       "      <td>2391.0000</td>\n",
       "      <td>140.53000</td>\n",
       "      <td>111.67</td>\n",
       "      <td>1960q2</td>\n",
       "      <td>3.234749</td>\n",
       "      <td>NaN</td>\n",
       "      <td>NaN</td>\n",
       "      <td>NaN</td>\n",
       "      <td>1</td>\n",
       "    </tr>\n",
       "    <tr>\n",
       "      <th>1960-04-01</th>\n",
       "      <td>701.59998</td>\n",
       "      <td>25.440001</td>\n",
       "      <td>19.400000</td>\n",
       "      <td>2379.2000</td>\n",
       "      <td>138.42999</td>\n",
       "      <td>109.47</td>\n",
       "      <td>1960q3</td>\n",
       "      <td>3.236323</td>\n",
       "      <td>0.040001</td>\n",
       "      <td>0.001574</td>\n",
       "      <td>25.400000</td>\n",
       "      <td>2</td>\n",
       "    </tr>\n",
       "    <tr>\n",
       "      <th>1960-07-01</th>\n",
       "      <td>709.50000</td>\n",
       "      <td>25.370001</td>\n",
       "      <td>19.450001</td>\n",
       "      <td>2383.6001</td>\n",
       "      <td>139.60001</td>\n",
       "      <td>110.33</td>\n",
       "      <td>1960q4</td>\n",
       "      <td>3.233567</td>\n",
       "      <td>-0.070000</td>\n",
       "      <td>-0.002755</td>\n",
       "      <td>25.440001</td>\n",
       "      <td>3</td>\n",
       "    </tr>\n",
       "    <tr>\n",
       "      <th>1960-10-01</th>\n",
       "      <td>722.09998</td>\n",
       "      <td>25.400000</td>\n",
       "      <td>19.559999</td>\n",
       "      <td>2352.8999</td>\n",
       "      <td>142.67999</td>\n",
       "      <td>113.23</td>\n",
       "      <td>1961q1</td>\n",
       "      <td>3.234749</td>\n",
       "      <td>0.029999</td>\n",
       "      <td>0.001182</td>\n",
       "      <td>25.370001</td>\n",
       "      <td>4</td>\n",
       "    </tr>\n",
       "    <tr>\n",
       "      <th>1961-01-01</th>\n",
       "      <td>726.20001</td>\n",
       "      <td>25.490000</td>\n",
       "      <td>19.570000</td>\n",
       "      <td>2366.5000</td>\n",
       "      <td>142.22000</td>\n",
       "      <td>113.40</td>\n",
       "      <td>1961q2</td>\n",
       "      <td>3.238286</td>\n",
       "      <td>0.090000</td>\n",
       "      <td>0.003537</td>\n",
       "      <td>25.400000</td>\n",
       "      <td>5</td>\n",
       "    </tr>\n",
       "    <tr>\n",
       "      <th>1961-04-01</th>\n",
       "      <td>735.29999</td>\n",
       "      <td>25.240000</td>\n",
       "      <td>19.580000</td>\n",
       "      <td>2410.8000</td>\n",
       "      <td>141.36000</td>\n",
       "      <td>112.48</td>\n",
       "      <td>1961q3</td>\n",
       "      <td>3.228430</td>\n",
       "      <td>-0.250000</td>\n",
       "      <td>-0.009856</td>\n",
       "      <td>25.490000</td>\n",
       "      <td>6</td>\n",
       "    </tr>\n",
       "    <tr>\n",
       "      <th>1961-07-01</th>\n",
       "      <td>748.20001</td>\n",
       "      <td>25.240000</td>\n",
       "      <td>19.680000</td>\n",
       "      <td>2450.3999</td>\n",
       "      <td>142.00999</td>\n",
       "      <td>112.62</td>\n",
       "      <td>1961q4</td>\n",
       "      <td>3.228430</td>\n",
       "      <td>0.000000</td>\n",
       "      <td>0.000000</td>\n",
       "      <td>25.240000</td>\n",
       "      <td>7</td>\n",
       "    </tr>\n",
       "    <tr>\n",
       "      <th>1961-10-01</th>\n",
       "      <td>764.70001</td>\n",
       "      <td>25.280001</td>\n",
       "      <td>19.700001</td>\n",
       "      <td>2500.3999</td>\n",
       "      <td>146.62000</td>\n",
       "      <td>116.71</td>\n",
       "      <td>1962q1</td>\n",
       "      <td>3.230014</td>\n",
       "      <td>0.040001</td>\n",
       "      <td>0.001584</td>\n",
       "      <td>25.240000</td>\n",
       "      <td>8</td>\n",
       "    </tr>\n",
       "    <tr>\n",
       "      <th>1962-01-01</th>\n",
       "      <td>772.79999</td>\n",
       "      <td>25.420000</td>\n",
       "      <td>19.740000</td>\n",
       "      <td>2544.0000</td>\n",
       "      <td>146.36000</td>\n",
       "      <td>116.76</td>\n",
       "      <td>1962q2</td>\n",
       "      <td>3.235536</td>\n",
       "      <td>0.139999</td>\n",
       "      <td>0.005523</td>\n",
       "      <td>25.280001</td>\n",
       "      <td>9</td>\n",
       "    </tr>\n",
       "    <tr>\n",
       "      <th>1962-04-01</th>\n",
       "      <td>786.90002</td>\n",
       "      <td>25.280001</td>\n",
       "      <td>19.830000</td>\n",
       "      <td>2571.5000</td>\n",
       "      <td>145.35001</td>\n",
       "      <td>115.38</td>\n",
       "      <td>1962q3</td>\n",
       "      <td>3.230014</td>\n",
       "      <td>-0.139999</td>\n",
       "      <td>-0.005523</td>\n",
       "      <td>25.420000</td>\n",
       "      <td>10</td>\n",
       "    </tr>\n",
       "  </tbody>\n",
       "</table>\n",
       "</div>"
      ],
      "text/plain": [
       "                   m3        ppi        cpi        gdp      m1nsa   ddnsa  \\\n",
       "yearqrt                                                                     \n",
       "1960-01-01  692.00000  25.400000  19.280001  2391.0000  140.53000  111.67   \n",
       "1960-04-01  701.59998  25.440001  19.400000  2379.2000  138.42999  109.47   \n",
       "1960-07-01  709.50000  25.370001  19.450001  2383.6001  139.60001  110.33   \n",
       "1960-10-01  722.09998  25.400000  19.559999  2352.8999  142.67999  113.23   \n",
       "1961-01-01  726.20001  25.490000  19.570000  2366.5000  142.22000  113.40   \n",
       "1961-04-01  735.29999  25.240000  19.580000  2410.8000  141.36000  112.48   \n",
       "1961-07-01  748.20001  25.240000  19.680000  2450.3999  142.00999  112.62   \n",
       "1961-10-01  764.70001  25.280001  19.700001  2500.3999  146.62000  116.71   \n",
       "1962-01-01  772.79999  25.420000  19.740000  2544.0000  146.36000  116.76   \n",
       "1962-04-01  786.90002  25.280001  19.830000  2571.5000  145.35001  115.38   \n",
       "\n",
       "                 t     lnppi      dppi    dlnppi       lppi  trend  \n",
       "yearqrt                                                             \n",
       "1960-01-01  1960q2  3.234749       NaN       NaN        NaN      1  \n",
       "1960-04-01  1960q3  3.236323  0.040001  0.001574  25.400000      2  \n",
       "1960-07-01  1960q4  3.233567 -0.070000 -0.002755  25.440001      3  \n",
       "1960-10-01  1961q1  3.234749  0.029999  0.001182  25.370001      4  \n",
       "1961-01-01  1961q2  3.238286  0.090000  0.003537  25.400000      5  \n",
       "1961-04-01  1961q3  3.228430 -0.250000 -0.009856  25.490000      6  \n",
       "1961-07-01  1961q4  3.228430  0.000000  0.000000  25.240000      7  \n",
       "1961-10-01  1962q1  3.230014  0.040001  0.001584  25.240000      8  \n",
       "1962-01-01  1962q2  3.235536  0.139999  0.005523  25.280001      9  \n",
       "1962-04-01  1962q3  3.230014 -0.139999 -0.005523  25.420000     10  "
      ]
     },
     "execution_count": 2,
     "metadata": {},
     "output_type": "execute_result"
    }
   ],
   "source": [
    "data=pd.read_csv(\"ppi.csv\",index_col=\"yearqrt\",parse_dates=True)\n",
    "data.head(10)"
   ]
  },
  {
   "cell_type": "code",
   "execution_count": 3,
   "id": "0cedfe27",
   "metadata": {},
   "outputs": [
    {
     "name": "stdout",
     "output_type": "stream",
     "text": [
      "<class 'pandas.core.frame.DataFrame'>\n",
      "DatetimeIndex: 169 entries, 1960-01-01 to 2002-01-01\n",
      "Data columns (total 12 columns):\n",
      " #   Column  Non-Null Count  Dtype  \n",
      "---  ------  --------------  -----  \n",
      " 0   m3      169 non-null    float64\n",
      " 1   ppi     169 non-null    float64\n",
      " 2   cpi     169 non-null    float64\n",
      " 3   gdp     169 non-null    float64\n",
      " 4   m1nsa   169 non-null    float64\n",
      " 5   ddnsa   169 non-null    float64\n",
      " 6   t       169 non-null    object \n",
      " 7   lnppi   169 non-null    float64\n",
      " 8   dppi    168 non-null    float64\n",
      " 9   dlnppi  168 non-null    float64\n",
      " 10  lppi    168 non-null    float64\n",
      " 11  trend   169 non-null    int64  \n",
      "dtypes: float64(10), int64(1), object(1)\n",
      "memory usage: 17.2+ KB\n"
     ]
    }
   ],
   "source": [
    "data.info()"
   ]
  },
  {
   "cell_type": "code",
   "execution_count": 4,
   "id": "a005f476",
   "metadata": {},
   "outputs": [],
   "source": [
    "data_s=data.copy()"
   ]
  },
  {
   "cell_type": "code",
   "execution_count": 5,
   "id": "fdb0363f",
   "metadata": {},
   "outputs": [],
   "source": [
    "data_w=data_s[['ppi']]"
   ]
  },
  {
   "cell_type": "code",
   "execution_count": 75,
   "id": "5a6dfba8",
   "metadata": {
    "scrolled": false
   },
   "outputs": [
    {
     "data": {
      "text/plain": [
       "<matplotlib.legend.Legend at 0x25b57f17910>"
      ]
     },
     "execution_count": 75,
     "metadata": {},
     "output_type": "execute_result"
    },
    {
     "data": {
      "image/png": "[encoded data removed]",
      "text/plain": [
       "<Figure size 864x720 with 3 Axes>"
      ]
     },
     "metadata": {
      "needs_background": "light"
     },
     "output_type": "display_data"
    }
   ],
   "source": [
    "from statsmodels.tsa.seasonal import seasonal_decompose\n",
    "temp=data_w.values\n",
    "\n",
    "ts_comp=seasonal_decompose(data_w[40:120],period=40)\n",
    "\n",
    "d_trend=ts_comp.trend\n",
    "d_seasonal=ts_comp.seasonal\n",
    "d_residual=ts_comp.resid\n",
    "\n",
    "\n",
    "#plot the components\n",
    "_,ax=plt.subplots(3,1,figsize=(12,10))\n",
    "\n",
    "plt.subplot(311)\n",
    "plt.plot(data_w,label='Data')\n",
    "plt.legend()\n",
    "\n",
    "plt.subplot(312)\n",
    "plt.plot(d_trend,label='Trend')\n",
    "plt.legend()\n",
    "\n",
    "plt.subplot(313)\n",
    "plt.plot(d_seasonal,label='d_seasonal')\n",
    "plt.legend()"
   ]
  },
  {
   "cell_type": "markdown",
   "id": "d4db5126",
   "metadata": {},
   "source": [
    "### checkstationarity"
   ]
  },
  {
   "cell_type": "code",
   "execution_count": null,
   "id": "b8307df2",
   "metadata": {},
   "outputs": [],
   "source": []
  },
  {
   "cell_type": "code",
   "execution_count": 7,
   "id": "307fe015",
   "metadata": {},
   "outputs": [],
   "source": [
    "def checkstationarity(data):\n",
    "    pvalue=adfuller(data)[1]\n",
    "    print(pvalue)\n",
    "    if pvalue < 0.05:\n",
    "        msg='Data is stationary. Proceed to model building'\n",
    "    else:\n",
    "        msg='Data is not stationary. Diff. the data before model building'\n",
    "    \n",
    "    return msg"
   ]
  },
  {
   "cell_type": "code",
   "execution_count": 8,
   "id": "6c6fd43b",
   "metadata": {},
   "outputs": [
    {
     "name": "stdout",
     "output_type": "stream",
     "text": [
      "0.8264804014424036\n"
     ]
    },
    {
     "data": {
      "text/plain": [
       "'Data is not stationary. Diff. the data before model building'"
      ]
     },
     "execution_count": 8,
     "metadata": {},
     "output_type": "execute_result"
    }
   ],
   "source": [
    "checkstationarity(data_w.ppi)"
   ]
  },
  {
   "cell_type": "code",
   "execution_count": 9,
   "id": "911ad4fc",
   "metadata": {},
   "outputs": [],
   "source": [
    "def diff(data):\n",
    "    global data_test_diff\n",
    "    data_test_diff=data-data.shift(1)\n",
    "    \n",
    "    #plot\n",
    "    _,ax=plt.subplots(figsize=(16,6))\n",
    "\n",
    "    plt.subplot(121)\n",
    "    plt.plot(data)\n",
    "    plt.title('non_stationary data')\n",
    "\n",
    "    plt.subplot(122)\n",
    "    plt.plot(data_test_diff)\n",
    "    plt.title('stationary data')\n",
    "    \n",
    "    #dataframe\n",
    "    diffdf=pd.DataFrame({'actual':data,'differenced':data_test_diff})\n",
    "    \n",
    "    #drop nan value\n",
    "    data_test_diff.dropna(inplace=True)\n",
    "    \n",
    "    return data_test_diff"
   ]
  },
  {
   "cell_type": "code",
   "execution_count": 10,
   "id": "ac6e162f",
   "metadata": {},
   "outputs": [
    {
     "data": {
      "text/plain": [
       "yearqrt\n",
       "1960-04-01    0.040001\n",
       "1960-07-01   -0.070000\n",
       "1960-10-01    0.029999\n",
       "1961-01-01    0.090000\n",
       "1961-04-01   -0.250000\n",
       "                ...   \n",
       "2001-01-01    1.790000\n",
       "2001-04-01   -1.230000\n",
       "2001-07-01   -2.300000\n",
       "2001-10-01   -3.210000\n",
       "2002-01-01   -0.290000\n",
       "Name: ppi, Length: 168, dtype: float64"
      ]
     },
     "execution_count": 10,
     "metadata": {},
     "output_type": "execute_result"
    },
    {
     "data": {
      "image/png": "[encoded data removed]",
      "text/plain": [
       "<Figure size 1152x432 with 2 Axes>"
      ]
     },
     "metadata": {
      "needs_background": "light"
     },
     "output_type": "display_data"
    }
   ],
   "source": [
    "diff(data_w.ppi)"
   ]
  },
  {
   "cell_type": "code",
   "execution_count": 11,
   "id": "2a44427c",
   "metadata": {},
   "outputs": [
    {
     "name": "stdout",
     "output_type": "stream",
     "text": [
      "0.0011801482847234536\n"
     ]
    },
    {
     "data": {
      "text/plain": [
       "'Data is stationary. Proceed to model building'"
      ]
     },
     "execution_count": 11,
     "metadata": {},
     "output_type": "execute_result"
    }
   ],
   "source": [
    "checkstationarity(data_test_diff)"
   ]
  },
  {
   "cell_type": "markdown",
   "id": "c233fc0c",
   "metadata": {},
   "source": [
    "### split"
   ]
  },
  {
   "cell_type": "code",
   "execution_count": 12,
   "id": "bc67ac75",
   "metadata": {},
   "outputs": [],
   "source": [
    "\n",
    "#ss=int(len(data_test_diff)*0.7)\n",
    "#traint=data_test_diff[:ss]\n",
    "#testt=data_test_diff[ss:]\n",
    "#print('train={},test={}'.format(len(traint),len(testt)))"
   ]
  },
  {
   "cell_type": "code",
   "execution_count": 13,
   "id": "4fef70c8",
   "metadata": {},
   "outputs": [
    {
     "name": "stdout",
     "output_type": "stream",
     "text": [
      "train=118,test=51\n"
     ]
    }
   ],
   "source": [
    "ss=int(len(data_w)*0.7)\n",
    "traint=data_w[:ss]\n",
    "testt=data_w[ss:]\n",
    "print('train={},test={}'.format(len(traint),len(testt)))"
   ]
  },
  {
   "cell_type": "code",
   "execution_count": 14,
   "id": "f6bdd736",
   "metadata": {},
   "outputs": [
    {
     "name": "stdout",
     "output_type": "stream",
     "text": [
      "train=118,test=51\n"
     ]
    }
   ],
   "source": [
    "ss2=int(len(data)*0.7)\n",
    "traint2=data[:ss2]\n",
    "testt2=data[ss2:]\n",
    "print('train={},test={}'.format(len(traint2),len(testt2)))"
   ]
  },
  {
   "cell_type": "code",
   "execution_count": 15,
   "id": "f3c5a44d",
   "metadata": {},
   "outputs": [
    {
     "data": {
      "text/html": [
       "<div>\n",
       "<style scoped>\n",
       "    .dataframe tbody tr th:only-of-type {\n",
       "        vertical-align: middle;\n",
       "    }\n",
       "\n",
       "    .dataframe tbody tr th {\n",
       "        vertical-align: top;\n",
       "    }\n",
       "\n",
       "    .dataframe thead th {\n",
       "        text-align: right;\n",
       "    }\n",
       "</style>\n",
       "<table border=\"1\" class=\"dataframe\">\n",
       "  <thead>\n",
       "    <tr style=\"text-align: right;\">\n",
       "      <th></th>\n",
       "      <th>ppi</th>\n",
       "    </tr>\n",
       "    <tr>\n",
       "      <th>yearqrt</th>\n",
       "      <th></th>\n",
       "    </tr>\n",
       "  </thead>\n",
       "  <tbody>\n",
       "    <tr>\n",
       "      <th>1989-07-01</th>\n",
       "      <td>90.089996</td>\n",
       "    </tr>\n",
       "    <tr>\n",
       "      <th>1989-10-01</th>\n",
       "      <td>90.440002</td>\n",
       "    </tr>\n",
       "    <tr>\n",
       "      <th>1990-01-01</th>\n",
       "      <td>91.779999</td>\n",
       "    </tr>\n",
       "    <tr>\n",
       "      <th>1990-04-01</th>\n",
       "      <td>91.589996</td>\n",
       "    </tr>\n",
       "    <tr>\n",
       "      <th>1990-07-01</th>\n",
       "      <td>93.269997</td>\n",
       "    </tr>\n",
       "    <tr>\n",
       "      <th>1990-10-01</th>\n",
       "      <td>96.050003</td>\n",
       "    </tr>\n",
       "    <tr>\n",
       "      <th>1991-01-01</th>\n",
       "      <td>94.129997</td>\n",
       "    </tr>\n",
       "    <tr>\n",
       "      <th>1991-04-01</th>\n",
       "      <td>93.190002</td>\n",
       "    </tr>\n",
       "    <tr>\n",
       "      <th>1991-07-01</th>\n",
       "      <td>93.029999</td>\n",
       "    </tr>\n",
       "    <tr>\n",
       "      <th>1991-10-01</th>\n",
       "      <td>93.169998</td>\n",
       "    </tr>\n",
       "    <tr>\n",
       "      <th>1992-01-01</th>\n",
       "      <td>92.930000</td>\n",
       "    </tr>\n",
       "    <tr>\n",
       "      <th>1992-04-01</th>\n",
       "      <td>93.889999</td>\n",
       "    </tr>\n",
       "    <tr>\n",
       "      <th>1992-07-01</th>\n",
       "      <td>94.370003</td>\n",
       "    </tr>\n",
       "    <tr>\n",
       "      <th>1992-10-01</th>\n",
       "      <td>94.449997</td>\n",
       "    </tr>\n",
       "    <tr>\n",
       "      <th>1993-01-01</th>\n",
       "      <td>94.820000</td>\n",
       "    </tr>\n",
       "    <tr>\n",
       "      <th>1993-04-01</th>\n",
       "      <td>95.790001</td>\n",
       "    </tr>\n",
       "    <tr>\n",
       "      <th>1993-07-01</th>\n",
       "      <td>95.330002</td>\n",
       "    </tr>\n",
       "    <tr>\n",
       "      <th>1993-10-01</th>\n",
       "      <td>95.300003</td>\n",
       "    </tr>\n",
       "    <tr>\n",
       "      <th>1994-01-01</th>\n",
       "      <td>95.650002</td>\n",
       "    </tr>\n",
       "    <tr>\n",
       "      <th>1994-04-01</th>\n",
       "      <td>96.209999</td>\n",
       "    </tr>\n",
       "    <tr>\n",
       "      <th>1994-07-01</th>\n",
       "      <td>96.910004</td>\n",
       "    </tr>\n",
       "    <tr>\n",
       "      <th>1994-10-01</th>\n",
       "      <td>97.309998</td>\n",
       "    </tr>\n",
       "    <tr>\n",
       "      <th>1995-01-01</th>\n",
       "      <td>98.940002</td>\n",
       "    </tr>\n",
       "    <tr>\n",
       "      <th>1995-04-01</th>\n",
       "      <td>100.140000</td>\n",
       "    </tr>\n",
       "    <tr>\n",
       "      <th>1995-07-01</th>\n",
       "      <td>100.350000</td>\n",
       "    </tr>\n",
       "    <tr>\n",
       "      <th>1995-10-01</th>\n",
       "      <td>100.570000</td>\n",
       "    </tr>\n",
       "    <tr>\n",
       "      <th>1996-01-01</th>\n",
       "      <td>101.240000</td>\n",
       "    </tr>\n",
       "    <tr>\n",
       "      <th>1996-04-01</th>\n",
       "      <td>102.470000</td>\n",
       "    </tr>\n",
       "    <tr>\n",
       "      <th>1996-07-01</th>\n",
       "      <td>102.600000</td>\n",
       "    </tr>\n",
       "    <tr>\n",
       "      <th>1996-10-01</th>\n",
       "      <td>102.810000</td>\n",
       "    </tr>\n",
       "    <tr>\n",
       "      <th>1997-01-01</th>\n",
       "      <td>103.000000</td>\n",
       "    </tr>\n",
       "    <tr>\n",
       "      <th>1997-04-01</th>\n",
       "      <td>101.960000</td>\n",
       "    </tr>\n",
       "    <tr>\n",
       "      <th>1997-07-01</th>\n",
       "      <td>101.960000</td>\n",
       "    </tr>\n",
       "    <tr>\n",
       "      <th>1997-10-01</th>\n",
       "      <td>102.140000</td>\n",
       "    </tr>\n",
       "    <tr>\n",
       "      <th>1998-01-01</th>\n",
       "      <td>100.220000</td>\n",
       "    </tr>\n",
       "    <tr>\n",
       "      <th>1998-04-01</th>\n",
       "      <td>100.140000</td>\n",
       "    </tr>\n",
       "    <tr>\n",
       "      <th>1998-07-01</th>\n",
       "      <td>99.629997</td>\n",
       "    </tr>\n",
       "    <tr>\n",
       "      <th>1998-10-01</th>\n",
       "      <td>98.910004</td>\n",
       "    </tr>\n",
       "    <tr>\n",
       "      <th>1999-01-01</th>\n",
       "      <td>98.269997</td>\n",
       "    </tr>\n",
       "    <tr>\n",
       "      <th>1999-04-01</th>\n",
       "      <td>99.790001</td>\n",
       "    </tr>\n",
       "    <tr>\n",
       "      <th>1999-07-01</th>\n",
       "      <td>101.690000</td>\n",
       "    </tr>\n",
       "    <tr>\n",
       "      <th>1999-10-01</th>\n",
       "      <td>102.550000</td>\n",
       "    </tr>\n",
       "    <tr>\n",
       "      <th>2000-01-01</th>\n",
       "      <td>103.910000</td>\n",
       "    </tr>\n",
       "    <tr>\n",
       "      <th>2000-04-01</th>\n",
       "      <td>105.830000</td>\n",
       "    </tr>\n",
       "    <tr>\n",
       "      <th>2000-07-01</th>\n",
       "      <td>107.170000</td>\n",
       "    </tr>\n",
       "    <tr>\n",
       "      <th>2000-10-01</th>\n",
       "      <td>108.640000</td>\n",
       "    </tr>\n",
       "    <tr>\n",
       "      <th>2001-01-01</th>\n",
       "      <td>110.430000</td>\n",
       "    </tr>\n",
       "    <tr>\n",
       "      <th>2001-04-01</th>\n",
       "      <td>109.200000</td>\n",
       "    </tr>\n",
       "    <tr>\n",
       "      <th>2001-07-01</th>\n",
       "      <td>106.900000</td>\n",
       "    </tr>\n",
       "    <tr>\n",
       "      <th>2001-10-01</th>\n",
       "      <td>103.690000</td>\n",
       "    </tr>\n",
       "    <tr>\n",
       "      <th>2002-01-01</th>\n",
       "      <td>103.400000</td>\n",
       "    </tr>\n",
       "  </tbody>\n",
       "</table>\n",
       "</div>"
      ],
      "text/plain": [
       "                   ppi\n",
       "yearqrt               \n",
       "1989-07-01   90.089996\n",
       "1989-10-01   90.440002\n",
       "1990-01-01   91.779999\n",
       "1990-04-01   91.589996\n",
       "1990-07-01   93.269997\n",
       "1990-10-01   96.050003\n",
       "1991-01-01   94.129997\n",
       "1991-04-01   93.190002\n",
       "1991-07-01   93.029999\n",
       "1991-10-01   93.169998\n",
       "1992-01-01   92.930000\n",
       "1992-04-01   93.889999\n",
       "1992-07-01   94.370003\n",
       "1992-10-01   94.449997\n",
       "1993-01-01   94.820000\n",
       "1993-04-01   95.790001\n",
       "1993-07-01   95.330002\n",
       "1993-10-01   95.300003\n",
       "1994-01-01   95.650002\n",
       "1994-04-01   96.209999\n",
       "1994-07-01   96.910004\n",
       "1994-10-01   97.309998\n",
       "1995-01-01   98.940002\n",
       "1995-04-01  100.140000\n",
       "1995-07-01  100.350000\n",
       "1995-10-01  100.570000\n",
       "1996-01-01  101.240000\n",
       "1996-04-01  102.470000\n",
       "1996-07-01  102.600000\n",
       "1996-10-01  102.810000\n",
       "1997-01-01  103.000000\n",
       "1997-04-01  101.960000\n",
       "1997-07-01  101.960000\n",
       "1997-10-01  102.140000\n",
       "1998-01-01  100.220000\n",
       "1998-04-01  100.140000\n",
       "1998-07-01   99.629997\n",
       "1998-10-01   98.910004\n",
       "1999-01-01   98.269997\n",
       "1999-04-01   99.790001\n",
       "1999-07-01  101.690000\n",
       "1999-10-01  102.550000\n",
       "2000-01-01  103.910000\n",
       "2000-04-01  105.830000\n",
       "2000-07-01  107.170000\n",
       "2000-10-01  108.640000\n",
       "2001-01-01  110.430000\n",
       "2001-04-01  109.200000\n",
       "2001-07-01  106.900000\n",
       "2001-10-01  103.690000\n",
       "2002-01-01  103.400000"
      ]
     },
     "execution_count": 15,
     "metadata": {},
     "output_type": "execute_result"
    }
   ],
   "source": [
    "testt"
   ]
  },
  {
   "cell_type": "code",
   "execution_count": 16,
   "id": "260b1f7e",
   "metadata": {},
   "outputs": [],
   "source": [
    "#train=traint.ppi\n",
    "#test=testt.ppi\n",
    "#print('train={},test={}'.format(len(train),len(test)))"
   ]
  },
  {
   "cell_type": "markdown",
   "id": "c3db481d",
   "metadata": {},
   "source": [
    "### ACF/PACF"
   ]
  },
  {
   "cell_type": "code",
   "execution_count": 17,
   "id": "bfa57cb4",
   "metadata": {},
   "outputs": [
    {
     "data": {
      "image/png": "[encoded data removed]",
      "text/plain": [
       "<Figure size 1008x576 with 2 Axes>"
      ]
     },
     "metadata": {
      "needs_background": "light"
     },
     "output_type": "display_data"
    }
   ],
   "source": [
    "_,ax=plt.subplots(1,2,figsize=(14,8))\n",
    "\n",
    "plot_pacf(data_test_diff,lags=40,ax=ax[0]);\n",
    "plot_acf(data_test_diff,lags=40,ax=ax[1]);"
   ]
  },
  {
   "cell_type": "code",
   "execution_count": 18,
   "id": "ce91a28f",
   "metadata": {},
   "outputs": [
    {
     "data": {
      "text/plain": [
       "51"
      ]
     },
     "execution_count": 18,
     "metadata": {},
     "output_type": "execute_result"
    }
   ],
   "source": [
    "len(testt)"
   ]
  },
  {
   "cell_type": "code",
   "execution_count": 19,
   "id": "6dedcd30",
   "metadata": {},
   "outputs": [],
   "source": [
    "rmse=[];name=[]"
   ]
  },
  {
   "cell_type": "markdown",
   "id": "7f877bff",
   "metadata": {},
   "source": [
    "### ARMIA "
   ]
  },
  {
   "cell_type": "code",
   "execution_count": 20,
   "id": "1d025be5",
   "metadata": {},
   "outputs": [],
   "source": [
    "def fun(data,data1,p,d,q):\n",
    "    \n",
    "    train = pd.DataFrame(data)\n",
    "    test = pd.DataFrame(data1)\n",
    "    #print(test)\n",
    "    m1=ARIMA(train,order=(p,d,q)).fit()\n",
    "    global mse1\n",
    "    \n",
    "    \n",
    "    f1=m1.forecast(len(test))\n",
    "    #print(f1)\n",
    "    actual=[]\n",
    "    pred=[]\n",
    "    for i in range(len(f1)):\n",
    "        actual.append(test.ppi[i])\n",
    "        pred.append(f1[i])\n",
    "    df1=pd.DataFrame({'actual':actual,'predicted':pred})\n",
    "    \n",
    "    mse1=mean_squared_error(df1.actual,df1.predicted)\n",
    "    \n",
    "    return mse1"
   ]
  },
  {
   "cell_type": "code",
   "execution_count": 21,
   "id": "11bce47b",
   "metadata": {},
   "outputs": [
    {
     "name": "stdout",
     "output_type": "stream",
     "text": [
      "p=0  d=1  q=0 Rmse=9.952\n",
      "p=0  d=1  q=1 Rmse=9.742\n",
      "p=0  d=1  q=2 Rmse=9.106\n",
      "p=0  d=1  q=3 Rmse=8.361\n",
      "p=0  d=1  q=4 Rmse=8.248\n",
      "p=1  d=1  q=0 Rmse=5.532\n",
      "p=1  d=1  q=1 Rmse=6.925\n",
      "p=1  d=1  q=2 Rmse=7.142\n",
      "p=1  d=1  q=3 Rmse=6.861\n",
      "p=1  d=1  q=4 Rmse=4.637\n",
      "p=2  d=1  q=0 Rmse=3.988\n",
      "p=2  d=1  q=1 Rmse=7.136\n",
      "p=2  d=1  q=2 Rmse=7.046\n",
      "p=2  d=1  q=3 Rmse=7.41\n",
      "p=2  d=1  q=4 Rmse=4.008\n",
      "p=3  d=1  q=0 Rmse=5.033\n",
      "p=3  d=1  q=1 Rmse=6.983\n",
      "p=3  d=1  q=2 Rmse=7.629\n",
      "p=3  d=1  q=3 Rmse=7.704\n",
      "p=3  d=1  q=4 Rmse=3.94\n",
      "p=4  d=1  q=0 Rmse=7.557\n",
      "p=4  d=1  q=1 Rmse=6.244\n",
      "p=4  d=1  q=2 Rmse=6.99\n",
      "p=4  d=1  q=3 Rmse=3.802\n",
      "p=4  d=1  q=4 Rmse=4.708\n",
      "p=5  d=1  q=0 Rmse=6.414\n",
      "p=5  d=1  q=1 Rmse=6.534\n",
      "p=5  d=1  q=2 Rmse=6.628\n",
      "p=5  d=1  q=3 Rmse=7.334\n",
      "p=5  d=1  q=4 Rmse=4.044\n",
      "p=6  d=1  q=0 Rmse=6.892\n",
      "p=6  d=1  q=1 Rmse=6.921\n",
      "p=6  d=1  q=2 Rmse=9.257\n",
      "p=6  d=1  q=3 Rmse=6.202\n",
      "p=6  d=1  q=4 Rmse=5.058\n",
      "p=7  d=1  q=0 Rmse=5.749\n",
      "p=7  d=1  q=1 Rmse=5.114\n",
      "p=7  d=1  q=2 Rmse=5.097\n",
      "p=7  d=1  q=3 Rmse=5.51\n",
      "p=7  d=1  q=4 Rmse=7.286\n"
     ]
    }
   ],
   "source": [
    "p=[0,1,2,3,4,5,6,7]\n",
    "d=[1]\n",
    "q=[0,1,2,3,4]\n",
    "P=[];D=[];Q=[];RMSE=[]\n",
    "for i in range(len(p)):\n",
    "    for j in range(len(d)):\n",
    "        for k in range(len(q)):\n",
    "            \n",
    "            fun(traint,testt,p=p[i],d=d[j],q=q[k])\n",
    "            P.append(p[i]);D.append(d[j]);Q.append(q[k]);RMSE.append(round(np.sqrt(mse1),3))\n",
    "            print('p='+str(p[i])+'  d='+str(d[j])+'  q='+str(q[k])+' Rmse={}'.format(round(np.sqrt(mse1),3)))\n",
    "            "
   ]
  },
  {
   "cell_type": "code",
   "execution_count": 22,
   "id": "98b296c3",
   "metadata": {},
   "outputs": [
    {
     "data": {
      "text/html": [
       "<div>\n",
       "<style scoped>\n",
       "    .dataframe tbody tr th:only-of-type {\n",
       "        vertical-align: middle;\n",
       "    }\n",
       "\n",
       "    .dataframe tbody tr th {\n",
       "        vertical-align: top;\n",
       "    }\n",
       "\n",
       "    .dataframe thead th {\n",
       "        text-align: right;\n",
       "    }\n",
       "</style>\n",
       "<table border=\"1\" class=\"dataframe\">\n",
       "  <thead>\n",
       "    <tr style=\"text-align: right;\">\n",
       "      <th></th>\n",
       "      <th>P</th>\n",
       "      <th>D</th>\n",
       "      <th>Q</th>\n",
       "      <th>RMSE</th>\n",
       "    </tr>\n",
       "  </thead>\n",
       "  <tbody>\n",
       "    <tr>\n",
       "      <th>23</th>\n",
       "      <td>4</td>\n",
       "      <td>1</td>\n",
       "      <td>3</td>\n",
       "      <td>3.802</td>\n",
       "    </tr>\n",
       "  </tbody>\n",
       "</table>\n",
       "</div>"
      ],
      "text/plain": [
       "    P  D  Q   RMSE\n",
       "23  4  1  3  3.802"
      ]
     },
     "execution_count": 22,
     "metadata": {},
     "output_type": "execute_result"
    }
   ],
   "source": [
    "arima=pd.DataFrame(list(zip(P,D,Q,RMSE)),columns=['P','D','Q','RMSE']).sort_values(by='RMSE',ascending=True)[:1]\n",
    "arima"
   ]
  },
  {
   "cell_type": "code",
   "execution_count": 23,
   "id": "9f001b9d",
   "metadata": {},
   "outputs": [],
   "source": [
    "rmse.append(4.238)\n",
    "name.append('arima')"
   ]
  },
  {
   "cell_type": "code",
   "execution_count": 24,
   "id": "cb7e45f6",
   "metadata": {},
   "outputs": [],
   "source": [
    "def fun1(data,data1,p,d,q):\n",
    "   \n",
    "  \n",
    "    train = pd.DataFrame(data)\n",
    "    test = pd.DataFrame(data1)\n",
    "    #print(test)\n",
    "    #print(train.meantemp)\n",
    "    m1=ARIMA(train,order=(p,d,q)).fit()\n",
    "    summ=m1.summary()\n",
    "    global aic1,bic1,mse1\n",
    "    \n",
    "    pvalue=sm.stats.acorr_ljungbox(m1.resid,lags=[1],return_df=True).lb_pvalue.values\n",
    "    if pvalue < 0.05:\n",
    "        print('not a good model')\n",
    "    else:\n",
    "        print('good model')\n",
    "    aic1,bic1=m1.aic,m1.bic\n",
    "    \n",
    "    f1=m1.forecast(len(test))\n",
    "    actual=[]\n",
    "    pred=[]\n",
    "    for i in range(len(f1)):\n",
    "        actual.append(test.ppi[i])\n",
    "        pred.append(f1[i])\n",
    "    df1=pd.DataFrame({'actual':actual,'forecast':pred})\n",
    "    #print(df1[:10])\n",
    "    mse1=mean_squared_error(df1.actual,df1.forecast)\n",
    "    \n",
    "    df1.actual.plot(figsize=(10,5),legend=True)\n",
    "    df1.forecast.plot(legend=True)\n",
    "    plt.title('Actual and Forecasted(ARIMA) ')\n",
    "    return summ,df1,pvalue"
   ]
  },
  {
   "cell_type": "code",
   "execution_count": 25,
   "id": "d41baf91",
   "metadata": {
    "scrolled": false
   },
   "outputs": [
    {
     "name": "stdout",
     "output_type": "stream",
     "text": [
      "good model\n"
     ]
    },
    {
     "data": {
      "text/plain": [
       "(<class 'statsmodels.iolib.summary.Summary'>\n",
       " \"\"\"\n",
       "                                SARIMAX Results                                \n",
       " ==============================================================================\n",
       " Dep. Variable:                    ppi   No. Observations:                  118\n",
       " Model:                 ARIMA(4, 1, 3)   Log Likelihood                 -93.973\n",
       " Date:                Tue, 11 Oct 2022   AIC                            203.947\n",
       " Time:                        08:49:15   BIC                            226.044\n",
       " Sample:                    01-01-1960   HQIC                           212.918\n",
       "                          - 04-01-1989                                         \n",
       " Covariance Type:                  opg                                         \n",
       " ==============================================================================\n",
       "                  coef    std err          z      P>|z|      [0.025      0.975]\n",
       " ------------------------------------------------------------------------------\n",
       " ar.L1          1.0579      0.107      9.897      0.000       0.848       1.267\n",
       " ar.L2          0.4172      0.126      3.309      0.001       0.170       0.664\n",
       " ar.L3         -1.1121      0.107    -10.410      0.000      -1.321      -0.903\n",
       " ar.L4          0.5271      0.106      4.990      0.000       0.320       0.734\n",
       " ma.L1         -0.5123      0.135     -3.785      0.000      -0.778      -0.247\n",
       " ma.L2         -0.6044      0.224     -2.702      0.007      -1.043      -0.166\n",
       " ma.L3          0.8933      0.125      7.154      0.000       0.649       1.138\n",
       " sigma2         0.2840      0.045      6.364      0.000       0.197       0.371\n",
       " ===================================================================================\n",
       " Ljung-Box (L1) (Q):                   0.48   Jarque-Bera (JB):                10.61\n",
       " Prob(Q):                              0.49   Prob(JB):                         0.00\n",
       " Heteroskedasticity (H):              19.89   Skew:                            -0.00\n",
       " Prob(H) (two-sided):                  0.00   Kurtosis:                         4.48\n",
       " ===================================================================================\n",
       " \n",
       " Warnings:\n",
       " [1] Covariance matrix calculated using the outer product of gradients (complex-step).\n",
       " \"\"\",\n",
       "         actual    forecast\n",
       " 0    90.089996   91.428923\n",
       " 1    90.440002   92.192902\n",
       " 2    91.779999   93.176488\n",
       " 3    91.589996   94.188065\n",
       " 4    93.269997   95.356081\n",
       " 5    96.050003   96.322653\n",
       " 6    94.129997   97.226028\n",
       " 7    93.190002   97.819271\n",
       " 8    93.029999   98.364552\n",
       " 9    93.169998   98.693787\n",
       " 10   92.930000   99.086047\n",
       " 11   93.889999   99.344692\n",
       " 12   94.370003   99.703270\n",
       " 13   94.449997   99.927839\n",
       " 14   94.820000  100.234156\n",
       " 15   95.790001  100.389468\n",
       " 16   95.330002  100.620855\n",
       " 17   95.300003  100.708159\n",
       " 18   95.650002  100.885808\n",
       " 19   96.209999  100.934711\n",
       " 20   96.910004  101.085450\n",
       " 21   97.309998  101.113773\n",
       " 22   98.940002  101.245892\n",
       " 23  100.140000  101.255617\n",
       " 24  100.350000  101.368992\n",
       " 25  100.570000  101.360987\n",
       " 26  101.240000  101.458653\n",
       " 27  102.470000  101.437674\n",
       " 28  102.600000  101.524898\n",
       " 29  102.810000  101.495582\n",
       " 30  103.000000  101.575777\n",
       " 31  101.960000  101.540321\n",
       " 32  101.960000  101.614856\n",
       " 33  102.140000  101.574271\n",
       " 34  100.220000  101.644142\n",
       " 35  100.140000  101.599542\n",
       " 36   99.629997  101.665938\n",
       " 37   98.910004  101.618471\n",
       " 38   98.269997  101.682392\n",
       " 39   99.790001  101.632856\n",
       " 40  101.690000  101.694913\n",
       " 41  102.550000  101.643785\n",
       " 42  103.910000  101.704374\n",
       " 43  105.830000  101.652011\n",
       " 44  107.170000  101.711470\n",
       " 45  108.640000  101.658190\n",
       " 46  110.430000  101.716807\n",
       " 47  109.200000  101.662858\n",
       " 48  106.900000  101.720841\n",
       " 49  103.690000  101.666395\n",
       " 50  103.400000  101.723888,\n",
       " array([0.95561415]))"
      ]
     },
     "execution_count": 25,
     "metadata": {},
     "output_type": "execute_result"
    },
    {
     "data": {
      "image/png": "[encoded data removed]",
      "text/plain": [
       "<Figure size 720x360 with 1 Axes>"
      ]
     },
     "metadata": {
      "needs_background": "light"
     },
     "output_type": "display_data"
    }
   ],
   "source": [
    "fun1(traint,testt,4,1,3)"
   ]
  },
  {
   "cell_type": "markdown",
   "id": "e30c3f54",
   "metadata": {},
   "source": [
    "## SARIMA"
   ]
  },
  {
   "cell_type": "code",
   "execution_count": 26,
   "id": "7d565def",
   "metadata": {},
   "outputs": [
    {
     "data": {
      "text/plain": [
       "yearqrt\n",
       "1960-01-01    1.154745\n",
       "1960-04-01    0.985744\n",
       "1960-07-01    1.762746\n",
       "1960-10-01    2.646038\n",
       "1961-01-01    2.274578\n",
       "                ...   \n",
       "2001-01-01    2.274578\n",
       "2001-04-01    2.037330\n",
       "2001-07-01    1.609412\n",
       "2001-10-01    1.003869\n",
       "2002-01-01    0.702539\n",
       "Name: seasonal, Length: 169, dtype: float64"
      ]
     },
     "execution_count": 26,
     "metadata": {},
     "output_type": "execute_result"
    }
   ],
   "source": [
    "d_seasonal"
   ]
  },
  {
   "cell_type": "code",
   "execution_count": 27,
   "id": "6908c1b1",
   "metadata": {},
   "outputs": [
    {
     "name": "stdout",
     "output_type": "stream",
     "text": [
      "0.00807544728918941\n"
     ]
    },
    {
     "data": {
      "text/plain": [
       "'Data is stationary. Proceed to model building'"
      ]
     },
     "execution_count": 27,
     "metadata": {},
     "output_type": "execute_result"
    }
   ],
   "source": [
    "checkstationarity(d_seasonal)"
   ]
  },
  {
   "cell_type": "code",
   "execution_count": 28,
   "id": "75109b8a",
   "metadata": {},
   "outputs": [
    {
     "data": {
      "image/png": "[encoded data removed]",
      "text/plain": [
       "<Figure size 864x360 with 2 Axes>"
      ]
     },
     "metadata": {
      "needs_background": "light"
     },
     "output_type": "display_data"
    }
   ],
   "source": [
    "#for seasonal data\n",
    "_,ax=plt.subplots(1,2,figsize=(12,5))\n",
    "plot_pacf(d_seasonal,lags=4,ax=ax[0]);\n",
    "plot_acf(d_seasonal,lags=4,ax=ax[1]);"
   ]
  },
  {
   "cell_type": "code",
   "execution_count": 31,
   "id": "22923fae",
   "metadata": {},
   "outputs": [],
   "source": [
    "#build sarima model\n",
    "def fun1(data,data1,p,d,q,P,D,Q):\n",
    "  \n",
    "    \n",
    "    #print(test)\n",
    "    m1=SARIMAX(data,order=(p,d,q),seasonal_order=(P,D,Q,4)).fit()\n",
    "    global mse1\n",
    "    f1=m1.forecast(len(data1))\n",
    "    mse1=mean_squared_error(data1,f1)\n",
    "    \n",
    "    \n",
    "    return "
   ]
  },
  {
   "cell_type": "code",
   "execution_count": 32,
   "id": "31604c63",
   "metadata": {
    "scrolled": false
   },
   "outputs": [
    {
     "name": "stdout",
     "output_type": "stream",
     "text": [
      "p=0  d=1  q=0 P=0  D=0  Q=0  Rmse=9.952\n",
      "p=0  d=1  q=0 P=0  D=0  Q=1  Rmse=7.924\n",
      "p=0  d=1  q=0 P=0  D=0  Q=2  Rmse=7.167\n",
      "p=0  d=1  q=0 P=1  D=0  Q=0  Rmse=3.386\n",
      "p=0  d=1  q=0 P=1  D=0  Q=1  Rmse=3.573\n",
      "p=0  d=1  q=0 P=1  D=0  Q=2  Rmse=4.478\n",
      "p=0  d=1  q=0 P=2  D=0  Q=0  Rmse=3.508\n",
      "p=0  d=1  q=0 P=2  D=0  Q=1  Rmse=7.313\n",
      "p=0  d=1  q=0 P=2  D=0  Q=2  Rmse=6.351\n",
      "p=0  d=1  q=1 P=0  D=0  Q=0  Rmse=9.742\n",
      "p=0  d=1  q=1 P=0  D=0  Q=1  Rmse=8.236\n",
      "p=0  d=1  q=1 P=0  D=0  Q=2  Rmse=7.703\n",
      "p=0  d=1  q=1 P=1  D=0  Q=0  Rmse=5.139\n",
      "p=0  d=1  q=1 P=1  D=0  Q=1  Rmse=4.597\n",
      "p=0  d=1  q=1 P=1  D=0  Q=2  Rmse=4.219\n",
      "p=0  d=1  q=1 P=2  D=0  Q=0  Rmse=4.736\n",
      "p=0  d=1  q=1 P=2  D=0  Q=1  Rmse=6.056\n",
      "p=0  d=1  q=1 P=2  D=0  Q=2  Rmse=5.804\n",
      "p=0  d=1  q=2 P=0  D=0  Q=0  Rmse=9.106\n",
      "p=0  d=1  q=2 P=0  D=0  Q=1  Rmse=7.514\n",
      "p=0  d=1  q=2 P=0  D=0  Q=2  Rmse=7.294\n",
      "p=0  d=1  q=2 P=1  D=0  Q=0  Rmse=5.592\n",
      "p=0  d=1  q=2 P=1  D=0  Q=1  Rmse=4.358\n",
      "p=0  d=1  q=2 P=1  D=0  Q=2  Rmse=5.302\n",
      "p=0  d=1  q=2 P=2  D=0  Q=0  Rmse=4.996\n",
      "p=0  d=1  q=2 P=2  D=0  Q=1  Rmse=6.053\n",
      "p=0  d=1  q=2 P=2  D=0  Q=2  Rmse=5.912\n",
      "p=1  d=1  q=0 P=0  D=0  Q=0  Rmse=5.532\n",
      "p=1  d=1  q=0 P=0  D=0  Q=1  Rmse=5.803\n",
      "p=1  d=1  q=0 P=0  D=0  Q=2  Rmse=5.871\n",
      "p=1  d=1  q=0 P=1  D=0  Q=0  Rmse=5.65\n",
      "p=1  d=1  q=0 P=1  D=0  Q=1  Rmse=5.586\n",
      "p=1  d=1  q=0 P=1  D=0  Q=2  Rmse=6.034\n",
      "p=1  d=1  q=0 P=2  D=0  Q=0  Rmse=5.587\n",
      "p=1  d=1  q=0 P=2  D=0  Q=1  Rmse=5.947\n",
      "p=1  d=1  q=0 P=2  D=0  Q=2  Rmse=6.047\n",
      "p=1  d=1  q=1 P=0  D=0  Q=0  Rmse=6.925\n",
      "p=1  d=1  q=1 P=0  D=0  Q=1  Rmse=5.495\n",
      "p=1  d=1  q=1 P=0  D=0  Q=2  Rmse=6.782\n",
      "p=1  d=1  q=1 P=1  D=0  Q=0  Rmse=5.42\n",
      "p=1  d=1  q=1 P=1  D=0  Q=1  Rmse=6.112\n",
      "p=1  d=1  q=1 P=1  D=0  Q=2  Rmse=6.628\n",
      "p=1  d=1  q=1 P=2  D=0  Q=0  Rmse=6.598\n",
      "p=1  d=1  q=1 P=2  D=0  Q=1  Rmse=6.187\n",
      "p=1  d=1  q=1 P=2  D=0  Q=2  Rmse=9.734\n",
      "p=1  d=1  q=2 P=0  D=0  Q=0  Rmse=7.142\n",
      "p=1  d=1  q=2 P=0  D=0  Q=1  Rmse=5.957\n",
      "p=1  d=1  q=2 P=0  D=0  Q=2  Rmse=7.053\n",
      "p=1  d=1  q=2 P=1  D=0  Q=0  Rmse=5.812\n",
      "p=1  d=1  q=2 P=1  D=0  Q=1  Rmse=6.484\n",
      "p=1  d=1  q=2 P=1  D=0  Q=2  Rmse=6.967\n",
      "p=1  d=1  q=2 P=2  D=0  Q=0  Rmse=6.918\n",
      "p=1  d=1  q=2 P=2  D=0  Q=1  Rmse=6.489\n",
      "p=1  d=1  q=2 P=2  D=0  Q=2  Rmse=5.392\n",
      "p=2  d=1  q=0 P=0  D=0  Q=0  Rmse=3.988\n",
      "p=2  d=1  q=0 P=0  D=0  Q=1  Rmse=3.894\n",
      "p=2  d=1  q=0 P=0  D=0  Q=2  Rmse=3.918\n",
      "p=2  d=1  q=0 P=1  D=0  Q=0  Rmse=3.88\n",
      "p=2  d=1  q=0 P=1  D=0  Q=1  Rmse=3.908\n",
      "p=2  d=1  q=0 P=1  D=0  Q=2  Rmse=7.475\n",
      "p=2  d=1  q=0 P=2  D=0  Q=0  Rmse=3.884\n",
      "p=2  d=1  q=0 P=2  D=0  Q=1  Rmse=3.876\n",
      "p=2  d=1  q=0 P=2  D=0  Q=2  Rmse=7.759\n",
      "p=2  d=1  q=1 P=0  D=0  Q=0  Rmse=7.136\n",
      "p=2  d=1  q=1 P=0  D=0  Q=1  Rmse=6.035\n",
      "p=2  d=1  q=1 P=0  D=0  Q=2  Rmse=7.113\n",
      "p=2  d=1  q=1 P=1  D=0  Q=0  Rmse=5.863\n",
      "p=2  d=1  q=1 P=1  D=0  Q=1  Rmse=6.552\n",
      "p=2  d=1  q=1 P=1  D=0  Q=2  Rmse=7.051\n",
      "p=2  d=1  q=1 P=2  D=0  Q=0  Rmse=6.997\n",
      "p=2  d=1  q=1 P=2  D=0  Q=1  Rmse=6.587\n",
      "p=2  d=1  q=1 P=2  D=0  Q=2  Rmse=5.53\n",
      "p=2  d=1  q=2 P=0  D=0  Q=0  Rmse=7.046\n",
      "p=2  d=1  q=2 P=0  D=0  Q=1  Rmse=5.493\n",
      "p=2  d=1  q=2 P=0  D=0  Q=2  Rmse=7.676\n",
      "p=2  d=1  q=2 P=1  D=0  Q=0  Rmse=5.718\n",
      "p=2  d=1  q=2 P=1  D=0  Q=1  Rmse=6.569\n",
      "p=2  d=1  q=2 P=1  D=0  Q=2  Rmse=7.517\n",
      "p=2  d=1  q=2 P=2  D=0  Q=0  Rmse=7.221\n",
      "p=2  d=1  q=2 P=2  D=0  Q=1  Rmse=6.929\n",
      "p=2  d=1  q=2 P=2  D=0  Q=2  Rmse=10.036\n"
     ]
    }
   ],
   "source": [
    "p=[0,1,2]\n",
    "d=[1]\n",
    "q=[0,1,2]\n",
    "P=[0,1,2]\n",
    "D=[0]\n",
    "Q=[0,1,2]\n",
    "ps=[];ds=[];qs=[];\n",
    "RMSE=[];Ps=[];Ds=[];Qs=[];\n",
    "\n",
    "for i in range(len(p)):\n",
    "    for j in range(len(d)):\n",
    "        for k in range(len(q)):\n",
    "            for l in range(len(P)):\n",
    "                for m in range(len(D)):\n",
    "                    for n in range(len(Q)):\n",
    "                        ps.append(p[i]);ds.append(d[j]);qs.append(q[k]);Ps.append(P[l]);Ds.append(D[m]);Qs.append(Q[n]);RMSE.append(round(np.sqrt(mse1),3))\n",
    "                        fun1(traint,testt,p=p[i],d=d[j],q=q[k],P=P[l],D=D[m],Q=Q[n])\n",
    "                        print('p='+str(p[i])+'  d='+str(d[j])+'  q='+str(q[k])+' P='+str(P[l])+'  D='+str(D[m])+'  Q='+str(Q[n])+'  Rmse={}'.format(round(np.sqrt(mse1),3)))\n",
    "           "
   ]
  },
  {
   "cell_type": "code",
   "execution_count": 33,
   "id": "c21f67da",
   "metadata": {},
   "outputs": [
    {
     "data": {
      "text/html": [
       "<div>\n",
       "<style scoped>\n",
       "    .dataframe tbody tr th:only-of-type {\n",
       "        vertical-align: middle;\n",
       "    }\n",
       "\n",
       "    .dataframe tbody tr th {\n",
       "        vertical-align: top;\n",
       "    }\n",
       "\n",
       "    .dataframe thead th {\n",
       "        text-align: right;\n",
       "    }\n",
       "</style>\n",
       "<table border=\"1\" class=\"dataframe\">\n",
       "  <thead>\n",
       "    <tr style=\"text-align: right;\">\n",
       "      <th></th>\n",
       "      <th>p</th>\n",
       "      <th>d</th>\n",
       "      <th>q</th>\n",
       "      <th>P</th>\n",
       "      <th>D</th>\n",
       "      <th>Q</th>\n",
       "      <th>RMSE</th>\n",
       "    </tr>\n",
       "  </thead>\n",
       "  <tbody>\n",
       "    <tr>\n",
       "      <th>4</th>\n",
       "      <td>0</td>\n",
       "      <td>1</td>\n",
       "      <td>0</td>\n",
       "      <td>1</td>\n",
       "      <td>0</td>\n",
       "      <td>1</td>\n",
       "      <td>3.386</td>\n",
       "    </tr>\n",
       "  </tbody>\n",
       "</table>\n",
       "</div>"
      ],
      "text/plain": [
       "   p  d  q  P  D  Q   RMSE\n",
       "4  0  1  0  1  0  1  3.386"
      ]
     },
     "execution_count": 33,
     "metadata": {},
     "output_type": "execute_result"
    }
   ],
   "source": [
    "sarima=pd.DataFrame(list(zip(ps,ds,qs,Ps,Ds,Qs,RMSE)),columns=['p','d','q','P','D','Q','RMSE'])\n",
    "sarima.sort_values(by=['RMSE'])[:1]"
   ]
  },
  {
   "cell_type": "code",
   "execution_count": null,
   "id": "06a27b26",
   "metadata": {},
   "outputs": [],
   "source": [
    "rmse.append(3.889)\n",
    "name.append('sarima')"
   ]
  },
  {
   "cell_type": "code",
   "execution_count": 34,
   "id": "3f463bb6",
   "metadata": {},
   "outputs": [],
   "source": [
    "sm1=SARIMAX(traint,order=(0,1,0),seasonal_order=(1,0,1,4)).fit()\n"
   ]
  },
  {
   "cell_type": "code",
   "execution_count": 35,
   "id": "ab0c3216",
   "metadata": {},
   "outputs": [
    {
     "data": {
      "text/plain": [
       "1989-07-01     91.217117\n",
       "1989-10-01     91.483927\n",
       "1990-01-01     92.828612\n",
       "1990-04-01     93.825988\n",
       "1990-07-01     94.352941\n",
       "1990-10-01     94.527137\n",
       "1991-01-01     95.405063\n",
       "1991-04-01     96.056236\n",
       "1991-07-01     96.400276\n",
       "1991-10-01     96.514006\n",
       "1992-01-01     97.087192\n",
       "1992-04-01     97.512334\n",
       "1992-07-01     97.736952\n",
       "1992-10-01     97.811205\n",
       "1993-01-01     98.185430\n",
       "1993-04-01     98.462999\n",
       "1993-07-01     98.609650\n",
       "1993-10-01     98.658129\n",
       "1994-01-01     98.902455\n",
       "1994-04-01     99.083676\n",
       "1994-07-01     99.179422\n",
       "1994-10-01     99.211073\n",
       "1995-01-01     99.370590\n",
       "1995-04-01     99.488907\n",
       "1995-07-01     99.551418\n",
       "1995-10-01     99.572082\n",
       "1996-01-01     99.676229\n",
       "1996-04-01     99.753476\n",
       "1996-07-01     99.794289\n",
       "1996-10-01     99.807780\n",
       "1997-01-01     99.875776\n",
       "1997-04-01     99.926210\n",
       "1997-07-01     99.952856\n",
       "1997-10-01     99.961664\n",
       "1998-01-01    100.006058\n",
       "1998-04-01    100.038985\n",
       "1998-07-01    100.056382\n",
       "1998-10-01    100.062133\n",
       "1999-01-01    100.091117\n",
       "1999-04-01    100.112615\n",
       "1999-07-01    100.123973\n",
       "1999-10-01    100.127728\n",
       "2000-01-01    100.146651\n",
       "2000-04-01    100.160687\n",
       "2000-07-01    100.168102\n",
       "2000-10-01    100.170553\n",
       "2001-01-01    100.182908\n",
       "2001-04-01    100.192072\n",
       "2001-07-01    100.196913\n",
       "2001-10-01    100.198514\n",
       "2002-01-01    100.206580\n",
       "Freq: QS-OCT, Name: predicted_mean, dtype: float64"
      ]
     },
     "execution_count": 35,
     "metadata": {},
     "output_type": "execute_result"
    }
   ],
   "source": [
    "f1=sm1.forecast(len(testt))\n",
    "f1"
   ]
  },
  {
   "cell_type": "code",
   "execution_count": 36,
   "id": "315ce411",
   "metadata": {},
   "outputs": [
    {
     "data": {
      "text/plain": [
       "<matplotlib.legend.Legend at 0x25b54c35a30>"
      ]
     },
     "execution_count": 36,
     "metadata": {},
     "output_type": "execute_result"
    },
    {
     "data": {
      "image/png": "[encoded data removed]",
      "text/plain": [
       "<Figure size 720x360 with 1 Axes>"
      ]
     },
     "metadata": {
      "needs_background": "light"
     },
     "output_type": "display_data"
    }
   ],
   "source": [
    "plt.figure(figsize=(10,5))\n",
    "plt.plot(testt, 'r', label = 'actual')\n",
    "plt.plot(f1, 'b', label='forecast')\n",
    "plt.title('sarima')\n",
    "plt.legend()\n",
    "\n"
   ]
  },
  {
   "cell_type": "code",
   "execution_count": null,
   "id": "c958cd08",
   "metadata": {},
   "outputs": [],
   "source": []
  },
  {
   "cell_type": "markdown",
   "id": "0b2d1f1a",
   "metadata": {},
   "source": [
    "## SARIMAX"
   ]
  },
  {
   "cell_type": "code",
   "execution_count": 47,
   "id": "39f03d14",
   "metadata": {},
   "outputs": [],
   "source": [
    "#import seaborn as sns\n",
    "#fig=plt.figure(figsize=(10,10))\n",
    "#sns.heatmap(data.corr(), annot = True)"
   ]
  },
  {
   "cell_type": "code",
   "execution_count": 41,
   "id": "9c8b2d82",
   "metadata": {},
   "outputs": [],
   "source": [
    "#build sarimax model\n",
    "def fun2(data,data1,p,d,q,P,D,Q):\n",
    "  \n",
    "    exog_train=traint2[['m3','cpi','gdp','m1nsa','ddnsa','lnppi']]\n",
    "    exog_test=testt2[['m3','cpi','gdp','m1nsa','ddnsa','lnppi']]\n",
    "    #print(test)\n",
    "    m1=SARIMAX(data,order=(p,d,q),seasonal_order=(P,D,Q,4),exog=exog_train.values).fit()\n",
    "    global mse1\n",
    "    f1=m1.forecast(len(data1),exog=exog_test.values)\n",
    "    mse1=mean_squared_error(data1,f1)\n",
    "    \n",
    "    \n",
    "    return "
   ]
  },
  {
   "cell_type": "code",
   "execution_count": 42,
   "id": "898f8103",
   "metadata": {},
   "outputs": [],
   "source": [
    "p=[0,1]\n",
    "d=[1]\n",
    "q=[0,1,2]\n",
    "P=[0,1,2]\n",
    "D=[0]\n",
    "Q=[0,1]\n",
    "px=[];dx=[];qx=[];\n",
    "RMSE=[];Px=[];Dx=[];Qx=[];\n",
    "\n",
    "for i in range(len(p)):\n",
    "    for j in range(len(d)):\n",
    "        for k in range(len(q)):\n",
    "            for l in range(len(P)):\n",
    "                for m in range(len(D)):\n",
    "                    for n in range(len(Q)):\n",
    "                        px.append(p[i]);dx.append(d[j]);qx.append(q[k]);Px.append(P[l]);Dx.append(D[m]);Qx.append(Q[n]);RMSE.append(round(np.sqrt(mse1),3))\n",
    "                        fun2(traint2.ppi,testt2.ppi,p=p[i],d=d[j],q=q[k],P=P[l],D=D[m],Q=Q[n])"
   ]
  },
  {
   "cell_type": "code",
   "execution_count": 43,
   "id": "b81f1390",
   "metadata": {},
   "outputs": [
    {
     "data": {
      "text/html": [
       "<div>\n",
       "<style scoped>\n",
       "    .dataframe tbody tr th:only-of-type {\n",
       "        vertical-align: middle;\n",
       "    }\n",
       "\n",
       "    .dataframe tbody tr th {\n",
       "        vertical-align: top;\n",
       "    }\n",
       "\n",
       "    .dataframe thead th {\n",
       "        text-align: right;\n",
       "    }\n",
       "</style>\n",
       "<table border=\"1\" class=\"dataframe\">\n",
       "  <thead>\n",
       "    <tr style=\"text-align: right;\">\n",
       "      <th></th>\n",
       "      <th>p</th>\n",
       "      <th>d</th>\n",
       "      <th>q</th>\n",
       "      <th>P</th>\n",
       "      <th>D</th>\n",
       "      <th>Q</th>\n",
       "      <th>RMSE</th>\n",
       "    </tr>\n",
       "  </thead>\n",
       "  <tbody>\n",
       "    <tr>\n",
       "      <th>1</th>\n",
       "      <td>0</td>\n",
       "      <td>1</td>\n",
       "      <td>0</td>\n",
       "      <td>0</td>\n",
       "      <td>0</td>\n",
       "      <td>1</td>\n",
       "      <td>1.815</td>\n",
       "    </tr>\n",
       "  </tbody>\n",
       "</table>\n",
       "</div>"
      ],
      "text/plain": [
       "   p  d  q  P  D  Q   RMSE\n",
       "1  0  1  0  0  0  1  1.815"
      ]
     },
     "execution_count": 43,
     "metadata": {},
     "output_type": "execute_result"
    }
   ],
   "source": [
    "sarimax=pd.DataFrame(list(zip(px,dx,qx,Px,Dx,Qx,RMSE)),columns=['p','d','q','P','D','Q','RMSE'])\n",
    "sarimax.sort_values(by=['RMSE'])[:1]"
   ]
  },
  {
   "cell_type": "code",
   "execution_count": 44,
   "id": "4ad5383e",
   "metadata": {},
   "outputs": [],
   "source": [
    "rmse.append(1.815)\n",
    "name.append('sarimax')"
   ]
  },
  {
   "cell_type": "code",
   "execution_count": 50,
   "id": "ddc6e92c",
   "metadata": {},
   "outputs": [],
   "source": [
    "exog_train=traint2[['m3','cpi','gdp','m1nsa','ddnsa','lnppi']]\n",
    "exog_test=testt2[['m3','cpi','gdp','m1nsa','ddnsa','lnppi']]\n",
    "\n",
    "sm2=SARIMAX(traint2.ppi,order=(0,1,0),seasonal_order=(0,0,1,4),exog=exog_train.values).fit()"
   ]
  },
  {
   "cell_type": "code",
   "execution_count": 61,
   "id": "86864f0f",
   "metadata": {},
   "outputs": [
    {
     "data": {
      "text/plain": [
       "1989-07-01    90.608427\n",
       "1989-10-01    90.963329\n",
       "1990-01-01    92.391333\n",
       "1990-04-01    92.753100\n",
       "1990-07-01    93.989805\n",
       "1990-10-01    95.690136\n",
       "1991-01-01    95.422032\n",
       "1991-04-01    95.127177\n",
       "1991-07-01    95.272486\n",
       "1991-10-01    95.443438\n",
       "1992-01-01    95.517673\n",
       "1992-04-01    96.066996\n",
       "1992-07-01    96.456223\n",
       "1992-10-01    96.490509\n",
       "1993-01-01    97.043505\n",
       "Freq: QS-OCT, Name: predicted_mean, dtype: float64"
      ]
     },
     "execution_count": 61,
     "metadata": {},
     "output_type": "execute_result"
    }
   ],
   "source": [
    "f2=sm2.forecast(len(testt2),exog=exog_test.values)\n",
    "f2.head(15)"
   ]
  },
  {
   "cell_type": "code",
   "execution_count": 53,
   "id": "9d1efe74",
   "metadata": {},
   "outputs": [
    {
     "data": {
      "text/plain": [
       "<matplotlib.legend.Legend at 0x25b56d951c0>"
      ]
     },
     "execution_count": 53,
     "metadata": {},
     "output_type": "execute_result"
    },
    {
     "data": {
      "image/png": "[encoded data removed]",
      "text/plain": [
       "<Figure size 720x576 with 1 Axes>"
      ]
     },
     "metadata": {
      "needs_background": "light"
     },
     "output_type": "display_data"
    }
   ],
   "source": [
    "plt.figure(figsize=(10,8))\n",
    "plt.plot(testt2.ppi, 'r', label = 'Actual')\n",
    "plt.plot(f2, 'b', label='forecast')\n",
    "plt.title('SARIMAX')\n",
    "plt.legend()\n"
   ]
  },
  {
   "cell_type": "code",
   "execution_count": 58,
   "id": "a923667f",
   "metadata": {},
   "outputs": [
    {
     "data": {
      "text/html": [
       "<table class=\"simpletable\">\n",
       "<caption>SARIMAX Results</caption>\n",
       "<tr>\n",
       "  <th>Dep. Variable:</th>                 <td>ppi</td>               <th>  No. Observations:  </th>   <td>117</td> \n",
       "</tr>\n",
       "<tr>\n",
       "  <th>Model:</th>           <td>SARIMAX(0, 1, 0)x(0, 0, [1], 4)</td> <th>  Log Likelihood     </th> <td>10.939</td>\n",
       "</tr>\n",
       "<tr>\n",
       "  <th>Date:</th>                   <td>Tue, 11 Oct 2022</td>         <th>  AIC                </th> <td>-3.879</td>\n",
       "</tr>\n",
       "<tr>\n",
       "  <th>Time:</th>                       <td>12:31:48</td>             <th>  BIC                </th> <td>20.903</td>\n",
       "</tr>\n",
       "<tr>\n",
       "  <th>Sample:</th>                    <td>04-01-1960</td>            <th>  HQIC               </th>  <td>6.181</td>\n",
       "</tr>\n",
       "<tr>\n",
       "  <th></th>                          <td>- 04-01-1989</td>           <th>                     </th>    <td> </td>  \n",
       "</tr>\n",
       "<tr>\n",
       "  <th>Covariance Type:</th>               <td>opg</td>               <th>                     </th>    <td> </td>  \n",
       "</tr>\n",
       "</table>\n",
       "<table class=\"simpletable\">\n",
       "<tr>\n",
       "     <td></td>        <th>coef</th>     <th>std err</th>      <th>z</th>      <th>P>|z|</th>  <th>[0.025</th>    <th>0.975]</th>  \n",
       "</tr>\n",
       "<tr>\n",
       "  <th>x1</th>      <td> -1.34e-05</td> <td>    0.000</td> <td>   -0.051</td> <td> 0.959</td> <td>   -0.001</td> <td>    0.001</td>\n",
       "</tr>\n",
       "<tr>\n",
       "  <th>x2</th>      <td>    0.3750</td> <td>    0.082</td> <td>    4.549</td> <td> 0.000</td> <td>    0.213</td> <td>    0.537</td>\n",
       "</tr>\n",
       "<tr>\n",
       "  <th>x3</th>      <td>   -0.0004</td> <td>    0.000</td> <td>   -0.714</td> <td> 0.475</td> <td>   -0.001</td> <td>    0.001</td>\n",
       "</tr>\n",
       "<tr>\n",
       "  <th>x4</th>      <td>    0.0019</td> <td>    0.006</td> <td>    0.316</td> <td> 0.752</td> <td>   -0.010</td> <td>    0.013</td>\n",
       "</tr>\n",
       "<tr>\n",
       "  <th>x5</th>      <td>   -0.0136</td> <td>    0.011</td> <td>   -1.232</td> <td> 0.218</td> <td>   -0.035</td> <td>    0.008</td>\n",
       "</tr>\n",
       "<tr>\n",
       "  <th>x6</th>      <td>   39.1263</td> <td>    1.715</td> <td>   22.817</td> <td> 0.000</td> <td>   35.765</td> <td>   42.487</td>\n",
       "</tr>\n",
       "<tr>\n",
       "  <th>x7</th>      <td>    0.0331</td> <td>    0.044</td> <td>    0.751</td> <td> 0.453</td> <td>   -0.053</td> <td>    0.119</td>\n",
       "</tr>\n",
       "<tr>\n",
       "  <th>ma.S.L4</th> <td>    0.3158</td> <td>    0.090</td> <td>    3.508</td> <td> 0.000</td> <td>    0.139</td> <td>    0.492</td>\n",
       "</tr>\n",
       "<tr>\n",
       "  <th>sigma2</th>  <td>    0.0483</td> <td>    0.006</td> <td>    8.272</td> <td> 0.000</td> <td>    0.037</td> <td>    0.060</td>\n",
       "</tr>\n",
       "</table>\n",
       "<table class=\"simpletable\">\n",
       "<tr>\n",
       "  <th>Ljung-Box (L1) (Q):</th>     <td>10.05</td> <th>  Jarque-Bera (JB):  </th> <td>19.40</td>\n",
       "</tr>\n",
       "<tr>\n",
       "  <th>Prob(Q):</th>                <td>0.00</td>  <th>  Prob(JB):          </th> <td>0.00</td> \n",
       "</tr>\n",
       "<tr>\n",
       "  <th>Heteroskedasticity (H):</th> <td>7.78</td>  <th>  Skew:              </th> <td>0.21</td> \n",
       "</tr>\n",
       "<tr>\n",
       "  <th>Prob(H) (two-sided):</th>    <td>0.00</td>  <th>  Kurtosis:          </th> <td>4.96</td> \n",
       "</tr>\n",
       "</table><br/><br/>Warnings:<br/>[1] Covariance matrix calculated using the outer product of gradients (complex-step)."
      ],
      "text/plain": [
       "<class 'statsmodels.iolib.summary.Summary'>\n",
       "\"\"\"\n",
       "                                      SARIMAX Results                                      \n",
       "===========================================================================================\n",
       "Dep. Variable:                                 ppi   No. Observations:                  117\n",
       "Model:             SARIMAX(0, 1, 0)x(0, 0, [1], 4)   Log Likelihood                  10.939\n",
       "Date:                             Tue, 11 Oct 2022   AIC                             -3.879\n",
       "Time:                                     12:31:48   BIC                             20.903\n",
       "Sample:                                 04-01-1960   HQIC                             6.181\n",
       "                                      - 04-01-1989                                         \n",
       "Covariance Type:                               opg                                         \n",
       "==============================================================================\n",
       "                 coef    std err          z      P>|z|      [0.025      0.975]\n",
       "------------------------------------------------------------------------------\n",
       "x1          -1.34e-05      0.000     -0.051      0.959      -0.001       0.001\n",
       "x2             0.3750      0.082      4.549      0.000       0.213       0.537\n",
       "x3            -0.0004      0.000     -0.714      0.475      -0.001       0.001\n",
       "x4             0.0019      0.006      0.316      0.752      -0.010       0.013\n",
       "x5            -0.0136      0.011     -1.232      0.218      -0.035       0.008\n",
       "x6            39.1263      1.715     22.817      0.000      35.765      42.487\n",
       "x7             0.0331      0.044      0.751      0.453      -0.053       0.119\n",
       "ma.S.L4        0.3158      0.090      3.508      0.000       0.139       0.492\n",
       "sigma2         0.0483      0.006      8.272      0.000       0.037       0.060\n",
       "===================================================================================\n",
       "Ljung-Box (L1) (Q):                  10.05   Jarque-Bera (JB):                19.40\n",
       "Prob(Q):                              0.00   Prob(JB):                         0.00\n",
       "Heteroskedasticity (H):               7.78   Skew:                             0.21\n",
       "Prob(H) (two-sided):                  0.00   Kurtosis:                         4.96\n",
       "===================================================================================\n",
       "\n",
       "Warnings:\n",
       "[1] Covariance matrix calculated using the outer product of gradients (complex-step).\n",
       "\"\"\""
      ]
     },
     "execution_count": 58,
     "metadata": {},
     "output_type": "execute_result"
    }
   ],
   "source": [
    "sm2.summary()"
   ]
  },
  {
   "cell_type": "code",
   "execution_count": 60,
   "id": "caf04a77",
   "metadata": {},
   "outputs": [
    {
     "name": "stdout",
     "output_type": "stream",
     "text": [
      "good model\n"
     ]
    }
   ],
   "source": [
    "pvalue=sm.stats.acorr_ljungbox(sm2.resid,lags=[1],return_df=True).lb_pvalue.values\n",
    "if pvalue < 0.05:\n",
    "    print('not a good model')\n",
    "else:\n",
    "    print('good model')"
   ]
  },
  {
   "cell_type": "code",
   "execution_count": 64,
   "id": "e923607d",
   "metadata": {},
   "outputs": [
    {
     "data": {
      "text/html": [
       "<div>\n",
       "<style scoped>\n",
       "    .dataframe tbody tr th:only-of-type {\n",
       "        vertical-align: middle;\n",
       "    }\n",
       "\n",
       "    .dataframe tbody tr th {\n",
       "        vertical-align: top;\n",
       "    }\n",
       "\n",
       "    .dataframe thead th {\n",
       "        text-align: right;\n",
       "    }\n",
       "</style>\n",
       "<table border=\"1\" class=\"dataframe\">\n",
       "  <thead>\n",
       "    <tr style=\"text-align: right;\">\n",
       "      <th></th>\n",
       "      <th>actual</th>\n",
       "      <th>forecast</th>\n",
       "    </tr>\n",
       "  </thead>\n",
       "  <tbody>\n",
       "    <tr>\n",
       "      <th>0</th>\n",
       "      <td>90.089996</td>\n",
       "      <td>90.608427</td>\n",
       "    </tr>\n",
       "    <tr>\n",
       "      <th>1</th>\n",
       "      <td>90.440002</td>\n",
       "      <td>90.963329</td>\n",
       "    </tr>\n",
       "    <tr>\n",
       "      <th>2</th>\n",
       "      <td>91.779999</td>\n",
       "      <td>92.391333</td>\n",
       "    </tr>\n",
       "    <tr>\n",
       "      <th>3</th>\n",
       "      <td>91.589996</td>\n",
       "      <td>92.753100</td>\n",
       "    </tr>\n",
       "    <tr>\n",
       "      <th>4</th>\n",
       "      <td>93.269997</td>\n",
       "      <td>93.989805</td>\n",
       "    </tr>\n",
       "    <tr>\n",
       "      <th>5</th>\n",
       "      <td>96.050003</td>\n",
       "      <td>95.690136</td>\n",
       "    </tr>\n",
       "    <tr>\n",
       "      <th>6</th>\n",
       "      <td>94.129997</td>\n",
       "      <td>95.422032</td>\n",
       "    </tr>\n",
       "    <tr>\n",
       "      <th>7</th>\n",
       "      <td>93.190002</td>\n",
       "      <td>95.127177</td>\n",
       "    </tr>\n",
       "    <tr>\n",
       "      <th>8</th>\n",
       "      <td>93.029999</td>\n",
       "      <td>95.272486</td>\n",
       "    </tr>\n",
       "    <tr>\n",
       "      <th>9</th>\n",
       "      <td>93.169998</td>\n",
       "      <td>95.443438</td>\n",
       "    </tr>\n",
       "    <tr>\n",
       "      <th>10</th>\n",
       "      <td>92.930000</td>\n",
       "      <td>95.517673</td>\n",
       "    </tr>\n",
       "    <tr>\n",
       "      <th>11</th>\n",
       "      <td>93.889999</td>\n",
       "      <td>96.066996</td>\n",
       "    </tr>\n",
       "    <tr>\n",
       "      <th>12</th>\n",
       "      <td>94.370003</td>\n",
       "      <td>96.456223</td>\n",
       "    </tr>\n",
       "    <tr>\n",
       "      <th>13</th>\n",
       "      <td>94.449997</td>\n",
       "      <td>96.490509</td>\n",
       "    </tr>\n",
       "    <tr>\n",
       "      <th>14</th>\n",
       "      <td>94.820000</td>\n",
       "      <td>97.043505</td>\n",
       "    </tr>\n",
       "  </tbody>\n",
       "</table>\n",
       "</div>"
      ],
      "text/plain": [
       "       actual   forecast\n",
       "0   90.089996  90.608427\n",
       "1   90.440002  90.963329\n",
       "2   91.779999  92.391333\n",
       "3   91.589996  92.753100\n",
       "4   93.269997  93.989805\n",
       "5   96.050003  95.690136\n",
       "6   94.129997  95.422032\n",
       "7   93.190002  95.127177\n",
       "8   93.029999  95.272486\n",
       "9   93.169998  95.443438\n",
       "10  92.930000  95.517673\n",
       "11  93.889999  96.066996\n",
       "12  94.370003  96.456223\n",
       "13  94.449997  96.490509\n",
       "14  94.820000  97.043505"
      ]
     },
     "execution_count": 64,
     "metadata": {},
     "output_type": "execute_result"
    }
   ],
   "source": [
    "actual=[]\n",
    "pred=[]\n",
    "for i in range(len(f2)):\n",
    "    actual.append(testt2.ppi[i])\n",
    "    pred.append(f2[i])\n",
    "pd.DataFrame({'actual':actual,'forecast':pred}).head(15)"
   ]
  },
  {
   "cell_type": "code",
   "execution_count": null,
   "id": "f444a3e6",
   "metadata": {},
   "outputs": [],
   "source": []
  },
  {
   "cell_type": "code",
   "execution_count": null,
   "id": "d6384dd6",
   "metadata": {},
   "outputs": [],
   "source": []
  },
  {
   "cell_type": "code",
   "execution_count": null,
   "id": "1ba3e52e",
   "metadata": {},
   "outputs": [],
   "source": []
  },
  {
   "cell_type": "code",
   "execution_count": null,
   "id": "d3823d37",
   "metadata": {},
   "outputs": [],
   "source": []
  },
  {
   "cell_type": "code",
   "execution_count": null,
   "id": "5f9e445f",
   "metadata": {},
   "outputs": [],
   "source": []
  },
  {
   "cell_type": "code",
   "execution_count": null,
   "id": "42e2e8f1",
   "metadata": {},
   "outputs": [],
   "source": []
  },
  {
   "cell_type": "code",
   "execution_count": null,
   "id": "e85cc73f",
   "metadata": {},
   "outputs": [],
   "source": []
  },
  {
   "cell_type": "code",
   "execution_count": 54,
   "id": "20306402",
   "metadata": {},
   "outputs": [],
   "source": [
    "traint3=traint2.copy()\n",
    "testt3=testt2.copy()"
   ]
  },
  {
   "cell_type": "code",
   "execution_count": 55,
   "id": "1c7cd8ab",
   "metadata": {},
   "outputs": [],
   "source": [
    "traint3.dropna(inplace=True)\n",
    "testt3.dropna(inplace=True)"
   ]
  },
  {
   "cell_type": "code",
   "execution_count": 56,
   "id": "cf3ed278",
   "metadata": {},
   "outputs": [],
   "source": [
    "exog_train=traint3[['m3','cpi','gdp','m1nsa','ddnsa','lnppi','lppi']]\n",
    "exog_test=testt3[['m3','cpi','gdp','m1nsa','ddnsa','lnppi','lppi']]\n",
    "\n",
    "sm2=SARIMAX(traint3.ppi,order=(0,1,0),seasonal_order=(0,0,1,4),exog=exog_train.values).fit()"
   ]
  },
  {
   "cell_type": "code",
   "execution_count": null,
   "id": "74e057ee",
   "metadata": {},
   "outputs": [],
   "source": [
    "f2=sm2.forecast(len(testt3),exog=exog_test.values)\n",
    "f2.head()"
   ]
  },
  {
   "cell_type": "code",
   "execution_count": 57,
   "id": "9caf5a7b",
   "metadata": {},
   "outputs": [
    {
     "data": {
      "text/plain": [
       "<matplotlib.legend.Legend at 0x25b56d39c70>"
      ]
     },
     "execution_count": 57,
     "metadata": {},
     "output_type": "execute_result"
    },
    {
     "data": {
      "image/png": "[encoded data removed]",
      "text/plain": [
       "<Figure size 720x576 with 1 Axes>"
      ]
     },
     "metadata": {
      "needs_background": "light"
     },
     "output_type": "display_data"
    }
   ],
   "source": [
    "plt.figure(figsize=(10,8))\n",
    "plt.plot(testt3.ppi, 'r', label = 'Actual')\n",
    "plt.plot(f2, 'b', label='forecast')\n",
    "plt.title('SARIMAX')\n",
    "plt.legend()\n",
    "\n"
   ]
  },
  {
   "cell_type": "code",
   "execution_count": 62,
   "id": "1e826aaf",
   "metadata": {},
   "outputs": [
    {
     "data": {
      "text/html": [
       "<div>\n",
       "<style scoped>\n",
       "    .dataframe tbody tr th:only-of-type {\n",
       "        vertical-align: middle;\n",
       "    }\n",
       "\n",
       "    .dataframe tbody tr th {\n",
       "        vertical-align: top;\n",
       "    }\n",
       "\n",
       "    .dataframe thead th {\n",
       "        text-align: right;\n",
       "    }\n",
       "</style>\n",
       "<table border=\"1\" class=\"dataframe\">\n",
       "  <thead>\n",
       "    <tr style=\"text-align: right;\">\n",
       "      <th></th>\n",
       "      <th>actual</th>\n",
       "      <th>forecast</th>\n",
       "    </tr>\n",
       "  </thead>\n",
       "  <tbody>\n",
       "    <tr>\n",
       "      <th>0</th>\n",
       "      <td>90.089996</td>\n",
       "      <td>90.608427</td>\n",
       "    </tr>\n",
       "    <tr>\n",
       "      <th>1</th>\n",
       "      <td>90.440002</td>\n",
       "      <td>90.963329</td>\n",
       "    </tr>\n",
       "    <tr>\n",
       "      <th>2</th>\n",
       "      <td>91.779999</td>\n",
       "      <td>92.391333</td>\n",
       "    </tr>\n",
       "    <tr>\n",
       "      <th>3</th>\n",
       "      <td>91.589996</td>\n",
       "      <td>92.753100</td>\n",
       "    </tr>\n",
       "    <tr>\n",
       "      <th>4</th>\n",
       "      <td>93.269997</td>\n",
       "      <td>93.989805</td>\n",
       "    </tr>\n",
       "    <tr>\n",
       "      <th>5</th>\n",
       "      <td>96.050003</td>\n",
       "      <td>95.690136</td>\n",
       "    </tr>\n",
       "    <tr>\n",
       "      <th>6</th>\n",
       "      <td>94.129997</td>\n",
       "      <td>95.422032</td>\n",
       "    </tr>\n",
       "    <tr>\n",
       "      <th>7</th>\n",
       "      <td>93.190002</td>\n",
       "      <td>95.127177</td>\n",
       "    </tr>\n",
       "    <tr>\n",
       "      <th>8</th>\n",
       "      <td>93.029999</td>\n",
       "      <td>95.272486</td>\n",
       "    </tr>\n",
       "    <tr>\n",
       "      <th>9</th>\n",
       "      <td>93.169998</td>\n",
       "      <td>95.443438</td>\n",
       "    </tr>\n",
       "  </tbody>\n",
       "</table>\n",
       "</div>"
      ],
      "text/plain": [
       "      actual   forecast\n",
       "0  90.089996  90.608427\n",
       "1  90.440002  90.963329\n",
       "2  91.779999  92.391333\n",
       "3  91.589996  92.753100\n",
       "4  93.269997  93.989805\n",
       "5  96.050003  95.690136\n",
       "6  94.129997  95.422032\n",
       "7  93.190002  95.127177\n",
       "8  93.029999  95.272486\n",
       "9  93.169998  95.443438"
      ]
     },
     "execution_count": 62,
     "metadata": {},
     "output_type": "execute_result"
    }
   ],
   "source": []
  },
  {
   "cell_type": "code",
   "execution_count": null,
   "id": "fd92f1e7",
   "metadata": {},
   "outputs": [],
   "source": []
  },
  {
   "cell_type": "code",
   "execution_count": null,
   "id": "af5d3340",
   "metadata": {},
   "outputs": [],
   "source": [
    "mse2 = mean_squared_error(testt3.ppi,f2).round(10)\n",
    "print('RMSE: ' + str(np.sqrt(mse2)))"
   ]
  },
  {
   "cell_type": "code",
   "execution_count": null,
   "id": "2ac9ce84",
   "metadata": {},
   "outputs": [],
   "source": []
  },
  {
   "cell_type": "code",
   "execution_count": null,
   "id": "a479fd01",
   "metadata": {},
   "outputs": [],
   "source": [
    "final_s=pd.DataFrame(list(zip(name,rmse)),columns=['Algorithm','rmse']).set_index('Algorithm').sort_values(by='rmse',ascending=True)\n"
   ]
  },
  {
   "cell_type": "code",
   "execution_count": null,
   "id": "30ad94aa",
   "metadata": {},
   "outputs": [],
   "source": [
    "final_s"
   ]
  },
  {
   "cell_type": "code",
   "execution_count": null,
   "id": "3f85eefc",
   "metadata": {},
   "outputs": [],
   "source": [
    "final_s.plot(kind='bar',figsize=(8,6))\n",
    "plt.xticks(rotation = 0);\n",
    "plt.title('RMSE');"
   ]
  },
  {
   "cell_type": "code",
   "execution_count": null,
   "id": "a34ccbbe",
   "metadata": {},
   "outputs": [],
   "source": []
  },
  {
   "cell_type": "code",
   "execution_count": null,
   "id": "64716a26",
   "metadata": {},
   "outputs": [],
   "source": []
  },
  {
   "cell_type": "code",
   "execution_count": null,
   "id": "74f882dd",
   "metadata": {},
   "outputs": [],
   "source": [
    "exog_train=traint3[['m3','cpi','gdp','m1nsa','ddnsa','lnppi','dppi','dlnppi','lppi']]\n",
    "exog_test=testt3[['m3','cpi','gdp','m1nsa','ddnsa','lnppi','dppi','dlnppi','lppi']]\n",
    "\n",
    "sm2=SARIMAX(traint3.ppi,order=(0,1,0),seasonal_order=(0,0,1,40),exog=exog_train.values).fit()"
   ]
  },
  {
   "cell_type": "code",
   "execution_count": null,
   "id": "c9e3826d",
   "metadata": {},
   "outputs": [],
   "source": [
    "f2=sm2.forecast(len(testt3),exog=exog_test.values)\n",
    "f2.head()"
   ]
  },
  {
   "cell_type": "code",
   "execution_count": null,
   "id": "af4d63c3",
   "metadata": {},
   "outputs": [],
   "source": []
  },
  {
   "cell_type": "code",
   "execution_count": null,
   "id": "4deba44c",
   "metadata": {},
   "outputs": [],
   "source": [
    "plt.figure(figsize=(10,8))\n",
    "plt.plot(testt3.ppi, 'r', label = 'Actual')\n",
    "plt.plot(f2, 'b', label='forecast')\n",
    "plt.title('SARIMAX')\n",
    "plt.legend()\n",
    "\n"
   ]
  },
  {
   "cell_type": "code",
   "execution_count": null,
   "id": "c7063f1d",
   "metadata": {},
   "outputs": [],
   "source": [
    "mse2 = mean_squared_error(testt3.ppi,f2).round(10)\n",
    "print('RMSE: ' + str(np.sqrt(mse2)))"
   ]
  },
  {
   "cell_type": "code",
   "execution_count": null,
   "id": "cdf4ab3a",
   "metadata": {},
   "outputs": [],
   "source": [
    "rmse"
   ]
  },
  {
   "cell_type": "code",
   "execution_count": null,
   "id": "50577beb",
   "metadata": {},
   "outputs": [],
   "source": [
    "name"
   ]
  },
  {
   "cell_type": "code",
   "execution_count": null,
   "id": "8ba393db",
   "metadata": {},
   "outputs": [],
   "source": []
  },
  {
   "cell_type": "code",
   "execution_count": null,
   "id": "bc22f9f5",
   "metadata": {},
   "outputs": [],
   "source": [
    "final_s"
   ]
  },
  {
   "cell_type": "code",
   "execution_count": null,
   "id": "f121a5b5",
   "metadata": {},
   "outputs": [],
   "source": []
  },
  {
   "cell_type": "code",
   "execution_count": null,
   "id": "7d9d0497",
   "metadata": {},
   "outputs": [],
   "source": []
  },
  {
   "cell_type": "code",
   "execution_count": null,
   "id": "a0764c05",
   "metadata": {},
   "outputs": [],
   "source": []
  },
  {
   "cell_type": "code",
   "execution_count": null,
   "id": "b8a62bf6",
   "metadata": {},
   "outputs": [],
   "source": []
  },
  {
   "cell_type": "code",
   "execution_count": null,
   "id": "a204494f",
   "metadata": {},
   "outputs": [],
   "source": []
  },
  {
   "cell_type": "code",
   "execution_count": null,
   "id": "81bf2308",
   "metadata": {},
   "outputs": [],
   "source": []
  },
  {
   "cell_type": "code",
   "execution_count": null,
   "id": "97b5e632",
   "metadata": {},
   "outputs": [],
   "source": []
  }
 ],
 "metadata": {
  "kernelspec": {
   "display_name": "Python 3 (ipykernel)",
   "language": "python",
   "name": "python3"
  },
  "language_info": {
   "codemirror_mode": {
    "name": "ipython",
    "version": 3
   },
   "file_extension": ".py",
   "mimetype": "text/x-python",
   "name": "python",
   "nbconvert_exporter": "python",
   "pygments_lexer": "ipython3",
   "version": "3.9.12"
  }
 },
 "nbformat": 4,
 "nbformat_minor": 5
}
